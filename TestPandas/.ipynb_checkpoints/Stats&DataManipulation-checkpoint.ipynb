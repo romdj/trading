{
 "cells": [
  {
   "cell_type": "code",
   "execution_count": null,
   "metadata": {},
   "outputs": [],
   "source": [
    "# FROM https://www.datacamp.com/community/tutorials/finance-python-trading"
   ]
  },
  {
   "cell_type": "code",
   "execution_count": 3,
   "metadata": {},
   "outputs": [],
   "source": [
    "import pandas_datareader as pdr\n",
    "import datetime\n",
    "import quandl\n",
    "import matplotlib.pyplot as plt"
   ]
  },
  {
   "cell_type": "code",
   "execution_count": 4,
   "metadata": {},
   "outputs": [],
   "source": [
    "import csv\n",
    "# with open('../companylist_NYSE.csv')\n",
    "import json\n",
    "with open('../DataSets/NASDAQ.json') as nq:\n",
    "    nasdaq = json.load(nq)"
   ]
  },
  {
   "cell_type": "code",
   "execution_count": 10,
   "metadata": {},
   "outputs": [],
   "source": [
    "start2018 = datetime.datetime(2018,1,1)\n",
    "end2018 = datetime.datetime(2018,12,31)\n",
    "start2017 = datetime.datetime(2017,1,1)\n",
    "end2017 = datetime.datetime(2017,12,31)\n",
    "companyList = nq"
   ]
  },
  {
   "cell_type": "code",
   "execution_count": 6,
   "metadata": {},
   "outputs": [],
   "source": [
    "aapl = pdr.get_data_yahoo('AAPL', \n",
    "                          start=datetime.datetime(2006, 10, 1), \n",
    "                          end=datetime.datetime(2018, 12, 1))\n",
    "aapl2 = quandl.get(\"WIKI/AAPL\", start_date=\"2006-10-01\", end_date=\"2018-12-01\")\n",
    "amazon = pdr.get_data_yahoo('AMZN', \n",
    "                          start=datetime.datetime(2005, 10, 1), \n",
    "                          end=datetime.datetime(2018, 12, 3))\n",
    "fb = pdr.get_data_yahoo('FB', \n",
    "                          start=datetime.datetime(2012, 10, 1), \n",
    "                          end=datetime.datetime(2018, 12, 3))\n",
    "abc = pdr.get_data_yahoo('GOOGL', \n",
    "                          start=datetime.datetime(2005, 10, 1), \n",
    "                          end=datetime.datetime(2018, 12, 3))\n",
    "estc = pdr.get_data_yahoo('ESTC', \n",
    "                          start=datetime.datetime(2018, 9, 1), \n",
    "                          end=datetime.datetime(2018, 12, 3))\n",
    "upwk = pdr.get_data_yahoo('UPWK', \n",
    "                          start=datetime.datetime(2018, 9, 1), \n",
    "                          end=datetime.datetime(2018, 12, 3))"
   ]
  },
  {
   "cell_type": "code",
   "execution_count": null,
   "metadata": {},
   "outputs": [
    {
     "name": "stdout",
     "output_type": "stream",
     "text": [
      "Found some issue fetching key: <class 'pandas_datareader._utils.RemoteDataError'>\n",
      "Found issue with Key: ADILW 'Date'\n",
      "Found issue with Key: AFHBL 'Date'\n",
      "Found some issue fetching key: <class 'pandas_datareader._utils.RemoteDataError'>\n",
      "Found some issue fetching key: <class 'requests.exceptions.ConnectionError'>\n",
      "Found some issue fetching key: <class 'requests.exceptions.ConnectionError'>\n",
      "Found some issue fetching key: <class 'requests.exceptions.ConnectionError'>\n"
     ]
    }
   ],
   "source": [
    "import copy, sys\n",
    "stocksDBDaily = []\n",
    "for x in nasdaq:\n",
    "    try:\n",
    "        stockData = pdr.get_data_yahoo(x, \n",
    "                              start=start2017, \n",
    "                              end=end2018)\n",
    "        arrayList.append(copy.copy(stockData)) # appends a copy to the list  \n",
    "    except KeyError as kErr:\n",
    "        print ('Found issue with Key:', x, kErr)\n",
    "#     except RemoteDataError as dErr:\n",
    "#         print ('Found issue for Data with key:', key, dErr)\n",
    "    except:\n",
    "        print ('Found some issue fetching key:', sys.exc_info()[0])"
   ]
  },
  {
   "cell_type": "code",
   "execution_count": null,
   "metadata": {},
   "outputs": [],
   "source": [
    "describe(stocksDBDaily)"
   ]
  },
  {
   "cell_type": "code",
   "execution_count": 8,
   "metadata": {},
   "outputs": [
    {
     "data": {
      "text/plain": [
       "pandas.core.series.Series"
      ]
     },
     "execution_count": 8,
     "metadata": {},
     "output_type": "execute_result"
    }
   ],
   "source": [
    "type(ts)"
   ]
  },
  {
   "cell_type": "code",
   "execution_count": 9,
   "metadata": {},
   "outputs": [
    {
     "name": "stdout",
     "output_type": "stream",
     "text": [
      "Date\n",
      "2018-11-16    193.529999\n",
      "2018-11-19    185.860001\n",
      "2018-11-20    176.979996\n",
      "2018-11-21    176.779999\n",
      "2018-11-23    172.289993\n",
      "2018-11-26    174.619995\n",
      "2018-11-27    174.240005\n",
      "2018-11-28    180.940002\n",
      "2018-11-29    179.550003\n",
      "2018-11-30    178.580002\n",
      "Name: Close, dtype: float64\n"
     ]
    }
   ],
   "source": [
    "print(ts)"
   ]
  },
  {
   "cell_type": "code",
   "execution_count": 17,
   "metadata": {},
   "outputs": [
    {
     "data": {
      "image/png": "[encoded data removed]",
      "text/plain": [
       "<Figure size 432x288 with 1 Axes>"
      ]
     },
     "metadata": {
      "needs_background": "light"
     },
     "output_type": "display_data"
    }
   ],
   "source": [
    "aapl['Close'].plot(grid=True)\n",
    "plt.show()"
   ]
  }
 ],
 "metadata": {
  "kernelspec": {
   "display_name": "Python 3",
   "language": "python",
   "name": "python3"
  },
  "language_info": {
   "codemirror_mode": {
    "name": "ipython",
    "version": 3
   },
   "file_extension": ".py",
   "mimetype": "text/x-python",
   "name": "python",
   "nbconvert_exporter": "python",
   "pygments_lexer": "ipython3",
   "version": "3.6.4"
  }
 },
 "nbformat": 4,
 "nbformat_minor": 2
}
